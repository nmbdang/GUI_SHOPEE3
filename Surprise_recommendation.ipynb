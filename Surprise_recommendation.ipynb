{
 "cells": [
  {
   "cell_type": "code",
   "execution_count": 14,
   "id": "7dbd3c6f-5b61-4f09-98bd-13b3c45a9542",
   "metadata": {},
   "outputs": [],
   "source": [
    "import pandas as pd\n",
    "import numpy as np\n",
    "from surprise import Dataset, Reader, SVD, KNNBasic, NMF\n",
    "from surprise import accuracy\n",
    "from surprise import *\n",
    "from surprise.model_selection.validation import cross_validate\n",
    "import pickle"
   ]
  },
  {
   "cell_type": "code",
   "execution_count": 2,
   "id": "64cecc9c-e19e-44f2-b7c8-6fe0df0f6620",
   "metadata": {},
   "outputs": [],
   "source": [
    "# Tải dữ liệu từ file CSV\n",
    "df = pd.read_csv('Products_ThoiTrangNam_rating_raw.csv', sep='\\t')"
   ]
  },
  {
   "cell_type": "code",
   "execution_count": 3,
   "id": "76fd70df-ef36-490e-a4b1-f2235dd48649",
   "metadata": {},
   "outputs": [
    {
     "data": {
      "text/html": [
       "<div>\n",
       "<style scoped>\n",
       "    .dataframe tbody tr th:only-of-type {\n",
       "        vertical-align: middle;\n",
       "    }\n",
       "\n",
       "    .dataframe tbody tr th {\n",
       "        vertical-align: top;\n",
       "    }\n",
       "\n",
       "    .dataframe thead th {\n",
       "        text-align: right;\n",
       "    }\n",
       "</style>\n",
       "<table border=\"1\" class=\"dataframe\">\n",
       "  <thead>\n",
       "    <tr style=\"text-align: right;\">\n",
       "      <th></th>\n",
       "      <th>product_id</th>\n",
       "      <th>user_id</th>\n",
       "      <th>user</th>\n",
       "      <th>rating</th>\n",
       "    </tr>\n",
       "  </thead>\n",
       "  <tbody>\n",
       "    <tr>\n",
       "      <th>0</th>\n",
       "      <td>190</td>\n",
       "      <td>1</td>\n",
       "      <td>karmakyun2nd</td>\n",
       "      <td>5</td>\n",
       "    </tr>\n",
       "    <tr>\n",
       "      <th>1</th>\n",
       "      <td>190</td>\n",
       "      <td>2</td>\n",
       "      <td>tranquangvinh_vv</td>\n",
       "      <td>5</td>\n",
       "    </tr>\n",
       "    <tr>\n",
       "      <th>2</th>\n",
       "      <td>190</td>\n",
       "      <td>3</td>\n",
       "      <td>nguyenquoctoan2005</td>\n",
       "      <td>5</td>\n",
       "    </tr>\n",
       "    <tr>\n",
       "      <th>3</th>\n",
       "      <td>190</td>\n",
       "      <td>4</td>\n",
       "      <td>nguyenthuyhavi</td>\n",
       "      <td>5</td>\n",
       "    </tr>\n",
       "    <tr>\n",
       "      <th>4</th>\n",
       "      <td>190</td>\n",
       "      <td>5</td>\n",
       "      <td>luonganh5595</td>\n",
       "      <td>5</td>\n",
       "    </tr>\n",
       "  </tbody>\n",
       "</table>\n",
       "</div>"
      ],
      "text/plain": [
       "   product_id  user_id                user  rating\n",
       "0         190        1        karmakyun2nd       5\n",
       "1         190        2    tranquangvinh_vv       5\n",
       "2         190        3  nguyenquoctoan2005       5\n",
       "3         190        4      nguyenthuyhavi       5\n",
       "4         190        5        luonganh5595       5"
      ]
     },
     "execution_count": 3,
     "metadata": {},
     "output_type": "execute_result"
    }
   ],
   "source": [
    "df.head()"
   ]
  },
  {
   "cell_type": "code",
   "execution_count": 4,
   "id": "7ce18c52-fe21-4e4f-853d-b972371ae3fa",
   "metadata": {},
   "outputs": [
    {
     "name": "stdout",
     "output_type": "stream",
     "text": [
      "<class 'pandas.core.frame.DataFrame'>\n",
      "RangeIndex: 1024482 entries, 0 to 1024481\n",
      "Data columns (total 4 columns):\n",
      " #   Column      Non-Null Count    Dtype \n",
      "---  ------      --------------    ----- \n",
      " 0   product_id  1024482 non-null  int64 \n",
      " 1   user_id     1024482 non-null  int64 \n",
      " 2   user        1024482 non-null  object\n",
      " 3   rating      1024482 non-null  int64 \n",
      "dtypes: int64(3), object(1)\n",
      "memory usage: 31.3+ MB\n"
     ]
    }
   ],
   "source": [
    "df.info()"
   ]
  },
  {
   "cell_type": "code",
   "execution_count": 5,
   "id": "ca0554bd-d9a1-49ad-98f3-532f8b025a79",
   "metadata": {},
   "outputs": [],
   "source": [
    "reader = Reader()\n",
    "data = Dataset.load_from_df(df[['user_id', 'product_id', 'rating']], reader)"
   ]
  },
  {
   "cell_type": "markdown",
   "id": "acdae0e0-fc06-4e5b-80f9-252dd41f9aa2",
   "metadata": {},
   "source": [
    "## Xây dựng model Surprise với thuật toán SVD"
   ]
  },
  {
   "cell_type": "code",
   "execution_count": 6,
   "id": "ac3a81c6-4596-443d-83de-7521d21ff350",
   "metadata": {},
   "outputs": [],
   "source": [
    "algorithm = SVD()"
   ]
  },
  {
   "cell_type": "code",
   "execution_count": 7,
   "id": "fec7d0e6-d921-4225-af97-af9bc31ee56f",
   "metadata": {},
   "outputs": [
    {
     "name": "stdout",
     "output_type": "stream",
     "text": [
      "Evaluating RMSE, MAE of algorithm SVD on 5 split(s).\n",
      "\n",
      "                  Fold 1  Fold 2  Fold 3  Fold 4  Fold 5  Mean    Std     \n",
      "RMSE (testset)    0.8849  0.8755  0.8784  0.8799  0.8819  0.8801  0.0032  \n",
      "MAE (testset)     0.5610  0.5567  0.5585  0.5588  0.5598  0.5590  0.0014  \n",
      "Fit time          30.34   29.40   27.51   27.39   26.87   28.30   1.33    \n",
      "Test time         3.83    2.17    2.86    2.91    2.71    2.90    0.54    \n"
     ]
    }
   ],
   "source": [
    "results = cross_validate(algorithm, data, measures=['RMSE', 'MAE'], cv=5, verbose=True)"
   ]
  },
  {
   "cell_type": "code",
   "execution_count": 9,
   "id": "49cdb017-3852-453d-abe1-4c5d75ada94d",
   "metadata": {},
   "outputs": [
    {
     "data": {
      "text/plain": [
       "{'test_rmse': array([0.88491195, 0.87553444, 0.8783914 , 0.87993057, 0.88186381]),\n",
       " 'test_mae': array([0.56095059, 0.55674581, 0.5585467 , 0.55879338, 0.55979332]),\n",
       " 'fit_time': (30.3355712890625,\n",
       "  29.401145935058594,\n",
       "  27.509253978729248,\n",
       "  27.385462760925293,\n",
       "  26.8687801361084),\n",
       " 'test_time': (3.826936721801758,\n",
       "  2.1650373935699463,\n",
       "  2.8601858615875244,\n",
       "  2.9142343997955322,\n",
       "  2.709207534790039)}"
      ]
     },
     "execution_count": 9,
     "metadata": {},
     "output_type": "execute_result"
    }
   ],
   "source": [
    "results"
   ]
  },
  {
   "cell_type": "code",
   "execution_count": 10,
   "id": "d0a285a6-1a56-48ea-a8fd-070a0d313b80",
   "metadata": {},
   "outputs": [
    {
     "data": {
      "text/plain": [
       "<surprise.prediction_algorithms.matrix_factorization.SVD at 0x1d3c5513dc0>"
      ]
     },
     "execution_count": 10,
     "metadata": {},
     "output_type": "execute_result"
    }
   ],
   "source": [
    "# If the results are OK => getting full dataset => fit model\n",
    "trainset = data.build_full_trainset()\n",
    "algorithm.fit(trainset)"
   ]
  },
  {
   "cell_type": "markdown",
   "id": "5dd2bc7f-3dd7-4d33-ac34-fed184e50a1d",
   "metadata": {},
   "source": [
    "## Sử dụng model SVD, gợi ý cho nhóm ID (ví dụ 199, 5, 1)"
   ]
  },
  {
   "cell_type": "code",
   "execution_count": 13,
   "id": "0ce1eb72-0dee-41b3-87e2-d6585933e4f0",
   "metadata": {},
   "outputs": [
    {
     "name": "stdout",
     "output_type": "stream",
     "text": [
      "Top 5 gợi ý cho user 199:\n",
      "  1. Áo tanktop nam nữ in hình City Cycle - áo ba lỗ sát nách unisex Local Brand\n",
      "  2. Áo thun nam ngắn tay cổ chữ V khoét sâu thời trang\n",
      "  3. Bộ ba lỗ mickey nam\n",
      "  4. Áo ba lỗ tập Gym - Áo Tanktop cao cấp ONE ATHLETE - Logo nhũ vàng siêu chất - BiT Fitness TT.OA.LGTR\n",
      "  5. [ Sale Sốc ] Áo hoodie Drew nỉ bông hàng cao cấp Ss2021\n",
      "Top 5 gợi ý cho user 5:\n",
      "  1. Áo GAP ba lỗ ,mặc thoáng mát ,thấm hút mồ hôi ,không nhăn không nhầu ,hàng full size\n",
      "  2. Áo Lót Ba Lỗ Nam ARISTINO 100% Cotton, AC21, tag 85k\n",
      "  3. Áo Ba Lỗ Nam Màu Trắng⭐⭐ JUVENO⭐⭐, co giãn 4 chiều, đủ size M-XXL - RSC01\n",
      "  4. Áo sát nách thể thao gym bigsize cao cấp áo 3 lỗ tanktop nam xuất khẩu SNTT\n",
      "  5. Áo ba lỗ nam thể thao mã [L02] chất thun lạnh co giãn 4 chiều hàng VNXK. Áo sát nách nam\n",
      "Top 5 gợi ý cho user 1:\n",
      "  1. Áo ba lỗ nam thun lạnh co giãn 4 chiều\n",
      "  2. Áo Lót Ba Lỗ Nam ARISTINO 100% Cotton, AC21, tag 85k\n",
      "  3. Áo Ba Lỗ Nam 100% Vải Poly Mềm Mỏng Siêu Thoáng Mát Thấm Hút Mồ Hôi Tốt Co Giãn 4 Chiều - Big Sport, BS15\n",
      "  4. Áo Thun Nam MANDO,Phông Tanktop Cotton Basic Unisex Xuân Hè Nam 2 Màu Xanh Trắng Phong Cách Hàn Quốc -PDN009\n",
      "  5. Áo 3 lỗ thể thao nam,áo sát nách chất thun lạnh\n"
     ]
    }
   ],
   "source": [
    "products_df = pd.read_csv('Products_ThoiTrangNam_raw.csv')\n",
    "product_id_to_name = dict(zip(products_df['product_id'], products_df['product_name']))\n",
    "\n",
    "def get_top_n_recommendations(algorithm, user_id, n=5):\n",
    "    # Lấy danh sách tất cả product_id duy nhất từ df (giả sử df là dữ liệu đánh giá)\n",
    "    all_product_ids = df['product_id'].unique()\n",
    "    \n",
    "    # Lấy danh sách product_id mà user đã đánh giá\n",
    "    rated_product_ids = df[df['user_id'] == user_id]['product_id'].unique()\n",
    "    \n",
    "    # Dự đoán rating cho các sản phẩm chưa được đánh giá\n",
    "    predictions = [algorithm.predict(user_id, product_id) for product_id in all_product_ids \n",
    "                   if product_id not in rated_product_ids]\n",
    "    \n",
    "    # Sắp xếp dự đoán theo giá trị rating dự đoán (estimated rating) giảm dần\n",
    "    predictions.sort(key=lambda x: x.est, reverse=True)\n",
    "    \n",
    "    # Lấy top N product_id\n",
    "    top_n_product_ids = [pred.iid for pred in predictions[:n]]\n",
    "    \n",
    "    # Chuyển đổi product_id sang product_name\n",
    "    top_n_product_names = [product_id_to_name.get(pid, \"Unknown Product\") for pid in top_n_product_ids]\n",
    "    \n",
    "    return top_n_product_names\n",
    "\n",
    "# Danh sách user_id cần gợi ý\n",
    "user_ids = [199, 5, 1]\n",
    "\n",
    "# Số lượng gợi ý cho mỗi user\n",
    "n_recommendations = 5\n",
    "\n",
    "# Đưa ra gợi ý cho từng user_id\n",
    "for user_id in user_ids:\n",
    "    recommendations = get_top_n_recommendations(algorithm, user_id, n_recommendations)\n",
    "    print(f'Top {n_recommendations} gợi ý cho user {user_id}:')\n",
    "    for i, product_name in enumerate(recommendations, 1):\n",
    "        print(f'  {i}. {product_name}')"
   ]
  },
  {
   "cell_type": "code",
   "execution_count": 15,
   "id": "6281d33e-19fc-4eae-bfc4-20a33e3915db",
   "metadata": {},
   "outputs": [],
   "source": [
    "# Sau khi huấn luyện model\n",
    "with open('surprise_model.pkl', 'wb') as f:\n",
    "    pickle.dump(algorithm, f)"
   ]
  },
  {
   "cell_type": "code",
   "execution_count": 16,
   "id": "72850245-3531-42cc-80f6-0f0ea6595a1b",
   "metadata": {},
   "outputs": [],
   "source": [
    "# Lưu DataFrame gốc chứa đánh giá\n",
    "df.to_csv('user_ratings.csv', index=False)\n",
    "\n",
    "# Lưu từ điển ánh xạ product_id -> product_name\n",
    "with open('product_id_to_name.pkl', 'wb') as f:\n",
    "    pickle.dump(product_id_to_name, f)"
   ]
  },
  {
   "cell_type": "code",
   "execution_count": null,
   "id": "c4bd3bba-6a6b-4e59-b1c4-b8b9fc729b4e",
   "metadata": {},
   "outputs": [],
   "source": []
  }
 ],
 "metadata": {
  "kernelspec": {
   "display_name": "Python 3 (ipykernel)",
   "language": "python",
   "name": "python3"
  },
  "language_info": {
   "codemirror_mode": {
    "name": "ipython",
    "version": 3
   },
   "file_extension": ".py",
   "mimetype": "text/x-python",
   "name": "python",
   "nbconvert_exporter": "python",
   "pygments_lexer": "ipython3",
   "version": "3.10.0"
  }
 },
 "nbformat": 4,
 "nbformat_minor": 5
}
