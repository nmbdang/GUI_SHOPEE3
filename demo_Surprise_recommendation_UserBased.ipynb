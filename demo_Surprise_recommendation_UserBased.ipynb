{
 "cells": [
  {
   "cell_type": "code",
   "execution_count": 2,
   "metadata": {
    "executionInfo": {
     "elapsed": 471,
     "status": "ok",
     "timestamp": 1710217341967,
     "user": {
      "displayName": "Phuong Khuat Thuy",
      "userId": "16807426118474640783"
     },
     "user_tz": -420
    },
    "id": "nX5-ZIKa0uXa"
   },
   "outputs": [],
   "source": [
    "import pandas as pd\n",
    "import numpy as np\n",
    "# from surprise import Reader, Dataset, SVD, SVDpp, NMF, SlopeOne, KNNBasic, KNNBaseline, KNNWithMeans, KNNWithZScore, CoClustering, BaselineOnly\n",
    "from surprise import *\n",
    "from surprise.model_selection.validation import cross_validate"
   ]
  },
  {
   "cell_type": "code",
   "execution_count": 3,
   "metadata": {
    "executionInfo": {
     "elapsed": 783,
     "status": "ok",
     "timestamp": 1710217342746,
     "user": {
      "displayName": "Phuong Khuat Thuy",
      "userId": "16807426118474640783"
     },
     "user_tz": -420
    },
    "id": "B0iUAGgd0axD"
   },
   "outputs": [],
   "source": [
    "df = pd.read_csv(\"Products_ThoiTrangNam_rating_raw.csv\", sep='\\t')"
   ]
  },
  {
   "cell_type": "code",
   "execution_count": 4,
   "metadata": {
    "colab": {
     "base_uri": "https://localhost:8080/"
    },
    "executionInfo": {
     "elapsed": 24,
     "status": "ok",
     "timestamp": 1710217342747,
     "user": {
      "displayName": "Phuong Khuat Thuy",
      "userId": "16807426118474640783"
     },
     "user_tz": -420
    },
    "id": "9C4zj8S21RIs",
    "outputId": "a2015cb2-340c-4f85-83a7-10f8eb6057b6"
   },
   "outputs": [
    {
     "name": "stdout",
     "output_type": "stream",
     "text": [
      "<class 'pandas.core.frame.DataFrame'>\n",
      "RangeIndex: 1024482 entries, 0 to 1024481\n",
      "Data columns (total 4 columns):\n",
      " #   Column      Non-Null Count    Dtype \n",
      "---  ------      --------------    ----- \n",
      " 0   product_id  1024482 non-null  int64 \n",
      " 1   user_id     1024482 non-null  int64 \n",
      " 2   user        1024482 non-null  object\n",
      " 3   rating      1024482 non-null  int64 \n",
      "dtypes: int64(3), object(1)\n",
      "memory usage: 31.3+ MB\n"
     ]
    }
   ],
   "source": [
    "df.info()"
   ]
  },
  {
   "cell_type": "code",
   "execution_count": 5,
   "metadata": {
    "colab": {
     "base_uri": "https://localhost:8080/",
     "height": 206
    },
    "executionInfo": {
     "elapsed": 19,
     "status": "ok",
     "timestamp": 1710217342747,
     "user": {
      "displayName": "Phuong Khuat Thuy",
      "userId": "16807426118474640783"
     },
     "user_tz": -420
    },
    "id": "eLsk07V51SUK",
    "outputId": "59a0ff97-7803-458b-a003-504606872af2"
   },
   "outputs": [
    {
     "data": {
      "text/html": [
       "<div>\n",
       "<style scoped>\n",
       "    .dataframe tbody tr th:only-of-type {\n",
       "        vertical-align: middle;\n",
       "    }\n",
       "\n",
       "    .dataframe tbody tr th {\n",
       "        vertical-align: top;\n",
       "    }\n",
       "\n",
       "    .dataframe thead th {\n",
       "        text-align: right;\n",
       "    }\n",
       "</style>\n",
       "<table border=\"1\" class=\"dataframe\">\n",
       "  <thead>\n",
       "    <tr style=\"text-align: right;\">\n",
       "      <th></th>\n",
       "      <th>product_id</th>\n",
       "      <th>user_id</th>\n",
       "      <th>user</th>\n",
       "      <th>rating</th>\n",
       "    </tr>\n",
       "  </thead>\n",
       "  <tbody>\n",
       "    <tr>\n",
       "      <th>0</th>\n",
       "      <td>190</td>\n",
       "      <td>1</td>\n",
       "      <td>karmakyun2nd</td>\n",
       "      <td>5</td>\n",
       "    </tr>\n",
       "    <tr>\n",
       "      <th>1</th>\n",
       "      <td>190</td>\n",
       "      <td>2</td>\n",
       "      <td>tranquangvinh_vv</td>\n",
       "      <td>5</td>\n",
       "    </tr>\n",
       "    <tr>\n",
       "      <th>2</th>\n",
       "      <td>190</td>\n",
       "      <td>3</td>\n",
       "      <td>nguyenquoctoan2005</td>\n",
       "      <td>5</td>\n",
       "    </tr>\n",
       "    <tr>\n",
       "      <th>3</th>\n",
       "      <td>190</td>\n",
       "      <td>4</td>\n",
       "      <td>nguyenthuyhavi</td>\n",
       "      <td>5</td>\n",
       "    </tr>\n",
       "    <tr>\n",
       "      <th>4</th>\n",
       "      <td>190</td>\n",
       "      <td>5</td>\n",
       "      <td>luonganh5595</td>\n",
       "      <td>5</td>\n",
       "    </tr>\n",
       "  </tbody>\n",
       "</table>\n",
       "</div>"
      ],
      "text/plain": [
       "   product_id  user_id                user  rating\n",
       "0         190        1        karmakyun2nd       5\n",
       "1         190        2    tranquangvinh_vv       5\n",
       "2         190        3  nguyenquoctoan2005       5\n",
       "3         190        4      nguyenthuyhavi       5\n",
       "4         190        5        luonganh5595       5"
      ]
     },
     "execution_count": 5,
     "metadata": {},
     "output_type": "execute_result"
    }
   ],
   "source": [
    "df.head()"
   ]
  },
  {
   "cell_type": "code",
   "execution_count": 9,
   "metadata": {
    "executionInfo": {
     "elapsed": 17,
     "status": "ok",
     "timestamp": 1710217342747,
     "user": {
      "displayName": "Phuong Khuat Thuy",
      "userId": "16807426118474640783"
     },
     "user_tz": -420
    },
    "id": "5ewunQXg7m3P"
   },
   "outputs": [],
   "source": [
    "n_ratings = len(df)\n",
    "n_product = len(df['n_product'].unique())\n",
    "n_user = len(df['user_id'].unique())"
   ]
  },
  {
   "cell_type": "code",
   "execution_count": 12,
   "metadata": {
    "colab": {
     "base_uri": "https://localhost:8080/",
     "height": 69
    },
    "executionInfo": {
     "elapsed": 16,
     "status": "ok",
     "timestamp": 1710217342747,
     "user": {
      "displayName": "Phuong Khuat Thuy",
      "userId": "16807426118474640783"
     },
     "user_tz": -420
    },
    "id": "sx71m3kK7sPi",
    "outputId": "f1bc847b-d732-4102-e247-d85717529509"
   },
   "outputs": [
    {
     "data": {
      "text/plain": [
       "1024482"
      ]
     },
     "metadata": {},
     "output_type": "display_data"
    },
    {
     "data": {
      "text/plain": [
       "31267"
      ]
     },
     "metadata": {},
     "output_type": "display_data"
    },
    {
     "data": {
      "text/plain": [
       "650636"
      ]
     },
     "metadata": {},
     "output_type": "display_data"
    }
   ],
   "source": [
    "display(n_ratings, n_product, n_user)"
   ]
  },
  {
   "cell_type": "code",
   "execution_count": 13,
   "metadata": {
    "colab": {
     "base_uri": "https://localhost:8080/"
    },
    "executionInfo": {
     "elapsed": 16,
     "status": "ok",
     "timestamp": 1710217342747,
     "user": {
      "displayName": "Phuong Khuat Thuy",
      "userId": "16807426118474640783"
     },
     "user_tz": -420
    },
    "id": "Z794igWN1UFC",
    "outputId": "815c84fc-230a-40c1-961d-b8426e0b364e"
   },
   "outputs": [
    {
     "data": {
      "text/plain": [
       "1731      412\n",
       "177       395\n",
       "231       391\n",
       "17194     389\n",
       "2359      387\n",
       "         ... \n",
       "121331      1\n",
       "121330      1\n",
       "121328      1\n",
       "121326      1\n",
       "26899       1\n",
       "Name: product_id, Length: 31267, dtype: int64"
      ]
     },
     "execution_count": 13,
     "metadata": {},
     "output_type": "execute_result"
    }
   ],
   "source": [
    "df['product_id'].value_counts()"
   ]
  },
  {
   "cell_type": "code",
   "execution_count": 14,
   "metadata": {
    "executionInfo": {
     "elapsed": 16,
     "status": "ok",
     "timestamp": 1710217342748,
     "user": {
      "displayName": "Phuong Khuat Thuy",
      "userId": "16807426118474640783"
     },
     "user_tz": -420
    },
    "id": "K3luERvf2cGK"
   },
   "outputs": [],
   "source": [
    "# https://surprise.readthedocs.io/en/stable/reader.html\n",
    "reader = Reader()\n",
    "data = Dataset.load_from_df(df[['user_id', 'product_id', 'rating']], reader)"
   ]
  },
  {
   "cell_type": "code",
   "execution_count": 16,
   "metadata": {
    "colab": {
     "base_uri": "https://localhost:8080/"
    },
    "executionInfo": {
     "elapsed": 15,
     "status": "ok",
     "timestamp": 1710217342748,
     "user": {
      "displayName": "Phuong Khuat Thuy",
      "userId": "16807426118474640783"
     },
     "user_tz": -420
    },
    "id": "Y99JaeRn25JD",
    "outputId": "e166dd3a-1102-44f5-fe0f-0a74aa0c54ae"
   },
   "outputs": [
    {
     "name": "stdout",
     "output_type": "stream",
     "text": [
      "Evaluating RMSE, MAE of algorithm SVD on 5 split(s).\n",
      "\n",
      "                  Fold 1  Fold 2  Fold 3  Fold 4  Fold 5  Mean    Std     \n",
      "RMSE (testset)    0.8804  0.8810  0.8804  0.8752  0.8822  0.8798  0.0024  \n",
      "MAE (testset)     0.5598  0.5602  0.5587  0.5572  0.5593  0.5590  0.0011  \n",
      "Fit time          35.21   38.91   34.58   38.11   36.48   36.66   1.65    \n",
      "Test time         3.82    3.98    2.65    4.10    3.69    3.65    0.52    \n"
     ]
    }
   ],
   "source": [
    "# https://www.youtube.com/watch?v=8wLKuscyO9I\n",
    "# Singular value decomposition\n",
    "algorithm = SVD()\n",
    "# algorithm = KNNBasic()\n",
    "# Run 5-fold cross-validation and print results\n",
    "results = cross_validate(algorithm, data, measures=['RMSE', 'MAE'], cv=5, verbose=True)"
   ]
  },
  {
   "cell_type": "code",
   "execution_count": 17,
   "metadata": {
    "colab": {
     "base_uri": "https://localhost:8080/"
    },
    "executionInfo": {
     "elapsed": 14,
     "status": "ok",
     "timestamp": 1710217342748,
     "user": {
      "displayName": "Phuong Khuat Thuy",
      "userId": "16807426118474640783"
     },
     "user_tz": -420
    },
    "id": "SA_bW3qlClpx",
    "outputId": "5a4ddf49-ec23-4c27-9e8c-f7785de84c92"
   },
   "outputs": [
    {
     "data": {
      "text/plain": [
       "{'test_rmse': array([0.88035568, 0.8809827 , 0.88041841, 0.8751605 , 0.88222695]),\n",
       " 'test_mae': array([0.55982879, 0.56020666, 0.55873747, 0.55715027, 0.5593167 ]),\n",
       " 'fit_time': (35.206053733825684,\n",
       "  38.909791231155396,\n",
       "  34.57768154144287,\n",
       "  38.11235499382019,\n",
       "  36.48407793045044),\n",
       " 'test_time': (3.8198318481445312,\n",
       "  3.9762022495269775,\n",
       "  2.654552936553955,\n",
       "  4.100021600723267,\n",
       "  3.6907284259796143)}"
      ]
     },
     "execution_count": 17,
     "metadata": {},
     "output_type": "execute_result"
    }
   ],
   "source": [
    "results"
   ]
  },
  {
   "cell_type": "code",
   "execution_count": 18,
   "metadata": {
    "colab": {
     "base_uri": "https://localhost:8080/"
    },
    "executionInfo": {
     "elapsed": 13,
     "status": "ok",
     "timestamp": 1710217342748,
     "user": {
      "displayName": "Phuong Khuat Thuy",
      "userId": "16807426118474640783"
     },
     "user_tz": -420
    },
    "id": "Vwo4tKxK31zN",
    "outputId": "316208fc-e188-43be-d034-38e002bc2f08"
   },
   "outputs": [
    {
     "data": {
      "text/plain": [
       "<surprise.prediction_algorithms.matrix_factorization.SVD at 0x160d63d7a30>"
      ]
     },
     "execution_count": 18,
     "metadata": {},
     "output_type": "execute_result"
    }
   ],
   "source": [
    "# If the results are OK => getting full dataset => fit model\n",
    "trainset = data.build_full_trainset()\n",
    "algorithm.fit(trainset)"
   ]
  },
  {
   "cell_type": "markdown",
   "metadata": {
    "id": "vidXLyjZEnue"
   },
   "source": [
    "### Recommender for a specific user"
   ]
  },
  {
   "cell_type": "code",
   "execution_count": 20,
   "metadata": {
    "colab": {
     "base_uri": "https://localhost:8080/",
     "height": 425
    },
    "executionInfo": {
     "elapsed": 11,
     "status": "ok",
     "timestamp": 1710217342748,
     "user": {
      "displayName": "Phuong Khuat Thuy",
      "userId": "16807426118474640783"
     },
     "user_tz": -420
    },
    "id": "QglUdX3m2-Dr",
    "outputId": "16611279-f7fa-46e6-fd23-2c4b343ff143"
   },
   "outputs": [
    {
     "data": {
      "text/html": [
       "<div>\n",
       "<style scoped>\n",
       "    .dataframe tbody tr th:only-of-type {\n",
       "        vertical-align: middle;\n",
       "    }\n",
       "\n",
       "    .dataframe tbody tr th {\n",
       "        vertical-align: top;\n",
       "    }\n",
       "\n",
       "    .dataframe thead th {\n",
       "        text-align: right;\n",
       "    }\n",
       "</style>\n",
       "<table border=\"1\" class=\"dataframe\">\n",
       "  <thead>\n",
       "    <tr style=\"text-align: right;\">\n",
       "      <th></th>\n",
       "      <th>user_id</th>\n",
       "      <th>user</th>\n",
       "      <th>rating</th>\n",
       "    </tr>\n",
       "    <tr>\n",
       "      <th>product_id</th>\n",
       "      <th></th>\n",
       "      <th></th>\n",
       "      <th></th>\n",
       "    </tr>\n",
       "  </thead>\n",
       "  <tbody>\n",
       "    <tr>\n",
       "      <th>191</th>\n",
       "      <td>190</td>\n",
       "      <td>522rlt2il_</td>\n",
       "      <td>5</td>\n",
       "    </tr>\n",
       "  </tbody>\n",
       "</table>\n",
       "</div>"
      ],
      "text/plain": [
       "            user_id        user  rating\n",
       "product_id                             \n",
       "191             190  522rlt2il_       5"
      ]
     },
     "execution_count": 20,
     "metadata": {},
     "output_type": "execute_result"
    }
   ],
   "source": [
    "# userId = 190 has seen some movies:\n",
    "userId = 190\n",
    "df_select = df[(df['user_id'] == userId) & (df['rating'] >=3)]\n",
    "df_select = df_select.set_index('product_id')\n",
    "#df_select = df_select.join(df_title)['Name']\n",
    "df_select.head(df_select.shape[0])"
   ]
  },
  {
   "cell_type": "code",
   "execution_count": 21,
   "metadata": {
    "colab": {
     "base_uri": "https://localhost:8080/"
    },
    "executionInfo": {
     "elapsed": 10,
     "status": "ok",
     "timestamp": 1710217342748,
     "user": {
      "displayName": "Phuong Khuat Thuy",
      "userId": "16807426118474640783"
     },
     "user_tz": -420
    },
    "id": "G80-AoFV3Xbt",
    "outputId": "60f3155a-379e-4ee5-e626-0ff08773d1d1"
   },
   "outputs": [
    {
     "data": {
      "text/plain": [
       "(1, 3)"
      ]
     },
     "execution_count": 21,
     "metadata": {},
     "output_type": "execute_result"
    }
   ],
   "source": [
    "df_select.shape"
   ]
  },
  {
   "cell_type": "code",
   "execution_count": 22,
   "metadata": {
    "executionInfo": {
     "elapsed": 10,
     "status": "ok",
     "timestamp": 1710217342748,
     "user": {
      "displayName": "Phuong Khuat Thuy",
      "userId": "16807426118474640783"
     },
     "user_tz": -420
    },
    "id": "JiCTGcoP36Lp"
   },
   "outputs": [],
   "source": [
    "df_score = df[[\"product_id\"]]"
   ]
  },
  {
   "cell_type": "code",
   "execution_count": 23,
   "metadata": {
    "colab": {
     "base_uri": "https://localhost:8080/",
     "height": 423
    },
    "executionInfo": {
     "elapsed": 348,
     "status": "ok",
     "timestamp": 1710217343087,
     "user": {
      "displayName": "Phuong Khuat Thuy",
      "userId": "16807426118474640783"
     },
     "user_tz": -420
    },
    "id": "8E2z4NUB4Qti",
    "outputId": "a783707b-8393-448f-c534-cabd51aea898"
   },
   "outputs": [
    {
     "data": {
      "text/html": [
       "<div>\n",
       "<style scoped>\n",
       "    .dataframe tbody tr th:only-of-type {\n",
       "        vertical-align: middle;\n",
       "    }\n",
       "\n",
       "    .dataframe tbody tr th {\n",
       "        vertical-align: top;\n",
       "    }\n",
       "\n",
       "    .dataframe thead th {\n",
       "        text-align: right;\n",
       "    }\n",
       "</style>\n",
       "<table border=\"1\" class=\"dataframe\">\n",
       "  <thead>\n",
       "    <tr style=\"text-align: right;\">\n",
       "      <th></th>\n",
       "      <th>product_id</th>\n",
       "    </tr>\n",
       "  </thead>\n",
       "  <tbody>\n",
       "    <tr>\n",
       "      <th>0</th>\n",
       "      <td>190</td>\n",
       "    </tr>\n",
       "    <tr>\n",
       "      <th>1</th>\n",
       "      <td>190</td>\n",
       "    </tr>\n",
       "    <tr>\n",
       "      <th>2</th>\n",
       "      <td>190</td>\n",
       "    </tr>\n",
       "    <tr>\n",
       "      <th>3</th>\n",
       "      <td>190</td>\n",
       "    </tr>\n",
       "    <tr>\n",
       "      <th>4</th>\n",
       "      <td>190</td>\n",
       "    </tr>\n",
       "    <tr>\n",
       "      <th>...</th>\n",
       "      <td>...</td>\n",
       "    </tr>\n",
       "    <tr>\n",
       "      <th>1024477</th>\n",
       "      <td>171107</td>\n",
       "    </tr>\n",
       "    <tr>\n",
       "      <th>1024478</th>\n",
       "      <td>171107</td>\n",
       "    </tr>\n",
       "    <tr>\n",
       "      <th>1024479</th>\n",
       "      <td>171107</td>\n",
       "    </tr>\n",
       "    <tr>\n",
       "      <th>1024480</th>\n",
       "      <td>171107</td>\n",
       "    </tr>\n",
       "    <tr>\n",
       "      <th>1024481</th>\n",
       "      <td>171107</td>\n",
       "    </tr>\n",
       "  </tbody>\n",
       "</table>\n",
       "<p>1024482 rows × 1 columns</p>\n",
       "</div>"
      ],
      "text/plain": [
       "         product_id\n",
       "0               190\n",
       "1               190\n",
       "2               190\n",
       "3               190\n",
       "4               190\n",
       "...             ...\n",
       "1024477      171107\n",
       "1024478      171107\n",
       "1024479      171107\n",
       "1024480      171107\n",
       "1024481      171107\n",
       "\n",
       "[1024482 rows x 1 columns]"
      ]
     },
     "execution_count": 23,
     "metadata": {},
     "output_type": "execute_result"
    }
   ],
   "source": [
    "df_score"
   ]
  },
  {
   "cell_type": "markdown",
   "metadata": {
    "id": "x5Gt4rAX6WO2"
   },
   "source": [
    "- Once the model has been evaluated to our satisfaction, then we can re-train the model using the entire training dataset"
   ]
  },
  {
   "cell_type": "code",
   "execution_count": 24,
   "metadata": {
    "colab": {
     "base_uri": "https://localhost:8080/"
    },
    "executionInfo": {
     "elapsed": 33,
     "status": "ok",
     "timestamp": 1710217343088,
     "user": {
      "displayName": "Phuong Khuat Thuy",
      "userId": "16807426118474640783"
     },
     "user_tz": -420
    },
    "id": "_DA1phU34ShZ",
    "outputId": "2ba83fa3-cb42-4c7e-c861-180d983e2b47"
   },
   "outputs": [
    {
     "name": "stderr",
     "output_type": "stream",
     "text": [
      "C:\\Users\\Ba Dang\\AppData\\Local\\Temp\\ipykernel_4124\\229877664.py:5: SettingWithCopyWarning: \n",
      "A value is trying to be set on a copy of a slice from a DataFrame.\n",
      "Try using .loc[row_indexer,col_indexer] = value instead\n",
      "\n",
      "See the caveats in the documentation: https://pandas.pydata.org/pandas-docs/stable/user_guide/indexing.html#returning-a-view-versus-a-copy\n",
      "  df_score['EstimateScore'] = df_score['product_id'].apply(lambda x: algorithm.predict(userId, x).est) # est: get EstimateScore\n"
     ]
    }
   ],
   "source": [
    "# The following are the top 5 movies to be recommended to the user with userId\n",
    "# To recommend products (i.e., movies) to the given user,\n",
    "# we can sort the list of movies in decreasing order of predicted ratings\n",
    "# and take the top N movies as recommendations:\n",
    "df_score['EstimateScore'] = df_score['product_id'].apply(lambda x: algorithm.predict(userId, x).est) # est: get EstimateScore\n",
    "df_score = df_score.sort_values(by=['EstimateScore'], ascending=False)"
   ]
  },
  {
   "cell_type": "code",
   "execution_count": 25,
   "metadata": {
    "executionInfo": {
     "elapsed": 27,
     "status": "ok",
     "timestamp": 1710217343089,
     "user": {
      "displayName": "Phuong Khuat Thuy",
      "userId": "16807426118474640783"
     },
     "user_tz": -420
    },
    "id": "eXVculve4vDx"
   },
   "outputs": [],
   "source": [
    "df_score = df_score.drop_duplicates()"
   ]
  },
  {
   "cell_type": "code",
   "execution_count": 26,
   "metadata": {
    "colab": {
     "base_uri": "https://localhost:8080/",
     "height": 206
    },
    "executionInfo": {
     "elapsed": 26,
     "status": "ok",
     "timestamp": 1710217343089,
     "user": {
      "displayName": "Phuong Khuat Thuy",
      "userId": "16807426118474640783"
     },
     "user_tz": -420
    },
    "id": "BRW8MWy75Cz6",
    "outputId": "abe7deb4-2376-403d-d477-5b2d78a9cd04"
   },
   "outputs": [
    {
     "data": {
      "text/html": [
       "<div>\n",
       "<style scoped>\n",
       "    .dataframe tbody tr th:only-of-type {\n",
       "        vertical-align: middle;\n",
       "    }\n",
       "\n",
       "    .dataframe tbody tr th {\n",
       "        vertical-align: top;\n",
       "    }\n",
       "\n",
       "    .dataframe thead th {\n",
       "        text-align: right;\n",
       "    }\n",
       "</style>\n",
       "<table border=\"1\" class=\"dataframe\">\n",
       "  <thead>\n",
       "    <tr style=\"text-align: right;\">\n",
       "      <th></th>\n",
       "      <th>product_id</th>\n",
       "      <th>EstimateScore</th>\n",
       "    </tr>\n",
       "  </thead>\n",
       "  <tbody>\n",
       "    <tr>\n",
       "      <th>512241</th>\n",
       "      <td>25183</td>\n",
       "      <td>5.0</td>\n",
       "    </tr>\n",
       "    <tr>\n",
       "      <th>530719</th>\n",
       "      <td>25246</td>\n",
       "      <td>5.0</td>\n",
       "    </tr>\n",
       "    <tr>\n",
       "      <th>127610</th>\n",
       "      <td>21830</td>\n",
       "      <td>5.0</td>\n",
       "    </tr>\n",
       "    <tr>\n",
       "      <th>876059</th>\n",
       "      <td>17123</td>\n",
       "      <td>5.0</td>\n",
       "    </tr>\n",
       "    <tr>\n",
       "      <th>127649</th>\n",
       "      <td>21831</td>\n",
       "      <td>5.0</td>\n",
       "    </tr>\n",
       "  </tbody>\n",
       "</table>\n",
       "</div>"
      ],
      "text/plain": [
       "        product_id  EstimateScore\n",
       "512241       25183            5.0\n",
       "530719       25246            5.0\n",
       "127610       21830            5.0\n",
       "876059       17123            5.0\n",
       "127649       21831            5.0"
      ]
     },
     "execution_count": 26,
     "metadata": {},
     "output_type": "execute_result"
    }
   ],
   "source": [
    "df_score.head()"
   ]
  },
  {
   "cell_type": "code",
   "execution_count": 27,
   "metadata": {
    "colab": {
     "base_uri": "https://localhost:8080/",
     "height": 81
    },
    "executionInfo": {
     "elapsed": 23,
     "status": "ok",
     "timestamp": 1710217343089,
     "user": {
      "displayName": "Phuong Khuat Thuy",
      "userId": "16807426118474640783"
     },
     "user_tz": -420
    },
    "id": "FQXBHuZmdhGy",
    "outputId": "220c0497-a916-402e-afd6-06e4c6c690d6"
   },
   "outputs": [
    {
     "data": {
      "text/html": [
       "<div>\n",
       "<style scoped>\n",
       "    .dataframe tbody tr th:only-of-type {\n",
       "        vertical-align: middle;\n",
       "    }\n",
       "\n",
       "    .dataframe tbody tr th {\n",
       "        vertical-align: top;\n",
       "    }\n",
       "\n",
       "    .dataframe thead th {\n",
       "        text-align: right;\n",
       "    }\n",
       "</style>\n",
       "<table border=\"1\" class=\"dataframe\">\n",
       "  <thead>\n",
       "    <tr style=\"text-align: right;\">\n",
       "      <th></th>\n",
       "      <th>product_id</th>\n",
       "      <th>EstimateScore</th>\n",
       "    </tr>\n",
       "  </thead>\n",
       "  <tbody>\n",
       "    <tr>\n",
       "      <th>512241</th>\n",
       "      <td>25183</td>\n",
       "      <td>5.000000</td>\n",
       "    </tr>\n",
       "    <tr>\n",
       "      <th>530719</th>\n",
       "      <td>25246</td>\n",
       "      <td>5.000000</td>\n",
       "    </tr>\n",
       "    <tr>\n",
       "      <th>127610</th>\n",
       "      <td>21830</td>\n",
       "      <td>5.000000</td>\n",
       "    </tr>\n",
       "    <tr>\n",
       "      <th>876059</th>\n",
       "      <td>17123</td>\n",
       "      <td>5.000000</td>\n",
       "    </tr>\n",
       "    <tr>\n",
       "      <th>127649</th>\n",
       "      <td>21831</td>\n",
       "      <td>5.000000</td>\n",
       "    </tr>\n",
       "    <tr>\n",
       "      <th>...</th>\n",
       "      <td>...</td>\n",
       "      <td>...</td>\n",
       "    </tr>\n",
       "    <tr>\n",
       "      <th>294684</th>\n",
       "      <td>2352</td>\n",
       "      <td>3.018561</td>\n",
       "    </tr>\n",
       "    <tr>\n",
       "      <th>872941</th>\n",
       "      <td>1788</td>\n",
       "      <td>3.013155</td>\n",
       "    </tr>\n",
       "    <tr>\n",
       "      <th>134976</th>\n",
       "      <td>211011</td>\n",
       "      <td>3.008413</td>\n",
       "    </tr>\n",
       "    <tr>\n",
       "      <th>651581</th>\n",
       "      <td>1311</td>\n",
       "      <td>3.007838</td>\n",
       "    </tr>\n",
       "    <tr>\n",
       "      <th>650687</th>\n",
       "      <td>138</td>\n",
       "      <td>3.005633</td>\n",
       "    </tr>\n",
       "  </tbody>\n",
       "</table>\n",
       "<p>31203 rows × 2 columns</p>\n",
       "</div>"
      ],
      "text/plain": [
       "        product_id  EstimateScore\n",
       "512241       25183       5.000000\n",
       "530719       25246       5.000000\n",
       "127610       21830       5.000000\n",
       "876059       17123       5.000000\n",
       "127649       21831       5.000000\n",
       "...            ...            ...\n",
       "294684        2352       3.018561\n",
       "872941        1788       3.013155\n",
       "134976      211011       3.008413\n",
       "651581        1311       3.007838\n",
       "650687         138       3.005633\n",
       "\n",
       "[31203 rows x 2 columns]"
      ]
     },
     "execution_count": 27,
     "metadata": {},
     "output_type": "execute_result"
    }
   ],
   "source": [
    "df_score[df_score.EstimateScore>=3]"
   ]
  },
  {
   "cell_type": "code",
   "execution_count": null,
   "metadata": {},
   "outputs": [],
   "source": []
  }
 ],
 "metadata": {
  "colab": {
   "authorship_tag": "ABX9TyOoCqVEg/5paULhgIZz8JTG",
   "provenance": []
  },
  "kernelspec": {
   "display_name": "Python 3 (ipykernel)",
   "language": "python",
   "name": "python3"
  },
  "language_info": {
   "codemirror_mode": {
    "name": "ipython",
    "version": 3
   },
   "file_extension": ".py",
   "mimetype": "text/x-python",
   "name": "python",
   "nbconvert_exporter": "python",
   "pygments_lexer": "ipython3",
   "version": "3.10.0"
  }
 },
 "nbformat": 4,
 "nbformat_minor": 4
}
